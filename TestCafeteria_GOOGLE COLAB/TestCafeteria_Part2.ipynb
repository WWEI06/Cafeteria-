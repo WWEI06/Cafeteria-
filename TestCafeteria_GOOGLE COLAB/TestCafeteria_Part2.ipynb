{
  "nbformat": 4,
  "nbformat_minor": 0,
  "metadata": {
    "colab": {
      "provenance": [],
      "gpuType": "T4"
    },
    "kernelspec": {
      "name": "python3",
      "display_name": "Python 3"
    },
    "language_info": {
      "name": "python"
    },
    "accelerator": "GPU"
  },
  "cells": [
    {
      "cell_type": "code",
      "source": [
        "from langchain.llms import HuggingFacePipeline\n",
        "\n",
        "llm = HuggingFacePipeline(pipeline=generate_text)\n",
        "\n",
        "# checking again that everything is working fine\n",
        "llm(prompt=\"Explain me the difference between Data Lakehouse and Data Warehouse.\")"
      ],
      "metadata": {
        "colab": {
          "base_uri": "https://localhost:8080/",
          "height": 229
        },
        "id": "XIOBwOaD5MIx",
        "outputId": "ec2a7934-1744-424d-ad0c-65ded891cbbf"
      },
      "execution_count": null,
      "outputs": [
        {
          "output_type": "stream",
          "name": "stderr",
          "text": [
            "/usr/local/lib/python3.10/dist-packages/langchain_core/_api/deprecation.py:117: LangChainDeprecationWarning: The function `__call__` was deprecated in LangChain 0.1.7 and will be removed in 0.2.0. Use invoke instead.\n",
            "  warn_deprecated(\n"
          ]
        },
        {
          "output_type": "execute_result",
          "data": {
            "text/plain": [
              "' Unterscheidung between data lakehouse and data warehouse is a common topic of discussion in the data engineering community, as both are designed to store large amounts of data but have different architectures, use cases, and benefits. A data lakehouse is a centralized repository that stores all the data from various sources in its raw form, without transforming or processing it. On the other hand, a data warehouse is a structured repository that stores data in a specific format, typically after cleaning, transforming, and organizing it.\\n\\nHere are some key differences between a data lakehouse and a data warehouse:\\n\\n1. Data Structure: A data lakehouse stores data in its raw form, including semi-structured and unstructured data, while a data warehouse stores data in a structured format, typically in a relational database management system (RDBMS).\\n2. Data Processing: A data lakehouse does not process or transform data, whereas a data warehouse often performs ETL (Extract, Transform, Load) processes on the data to make it fit for analysis.\\n3. Scalability: A data lakehouse can scale horizontally by adding more nodes to the cluster, while a data warehouse can scale vertically by increasing the power of the hardware.\\n4. Cost: A data lakehouse can be less expensive than a data warehouse due to its distributed architecture and lack of need for complex data processing.\\n5. Use Cases: A data lakehouse is suitable for use cases that require handling large volumes of diverse data, such as IoT sensor data, social media analytics, or financial transactions. A data warehouse is better suited for use cases that require fast query performance, such as sales forecasting or customer segmentation.\\n6. Query Performance: A data lakehouse can provide faster query performance than a data warehouse due to its distributed architecture and ability to parallelize queries across multiple nodes.\\n7. Data Governance: A data lakehouse provides more flexibility in terms of data governance, allowing for more flexible data access and sharing across different teams and departments.\\n8. Data Security: Both data lakehouses and data warehouses provide robust security features to protect sensitive data, but data lakehouses may offer more advanced security features due to their distributed architecture.\\n9. Integration: A data lakehouse can integrate with various data sources, including'"
            ],
            "application/vnd.google.colaboratory.intrinsic+json": {
              "type": "string"
            }
          },
          "metadata": {},
          "execution_count": 9
        }
      ]
    },
    {
      "cell_type": "code",
      "source": [
        "from langchain.document_loaders import WebBaseLoader\n",
        "\n",
        "web_links = [\"https://www.uts.edu.my/about-university/\",\"https://en.wikipedia.org/wiki/University_of_Technology_Sarawak\", \"https://www.uts.edu.my/school/\", \"https://scm.uts.edu.my/programme/undergraduate-programme/bachelor-of-computer-science/\", \"https://www.uts.edu.my/management-team/\", \"https://www.uts.edu.my/facility/\", \"https://www.uts.edu.my/tuition-fees/\"]\n",
        "\n",
        "loader = WebBaseLoader(web_links)\n",
        "documents = loader.load()"
      ],
      "metadata": {
        "id": "h_LLNC0D5PWc"
      },
      "execution_count": null,
      "outputs": []
    },
    {
      "cell_type": "code",
      "source": [
        "from langchain.text_splitter import RecursiveCharacterTextSplitter\n",
        "\n",
        "text_splitter = RecursiveCharacterTextSplitter(chunk_size=1000, chunk_overlap=20)\n",
        "all_splits = text_splitter.split_documents(documents)"
      ],
      "metadata": {
        "id": "LuA_iaPH5RaU"
      },
      "execution_count": null,
      "outputs": []
    },
    {
      "cell_type": "code",
      "source": [
        "from langchain.embeddings import HuggingFaceEmbeddings\n",
        "from langchain.vectorstores import FAISS\n",
        "\n",
        "model_name = \"sentence-transformers/all-mpnet-base-v2\"\n",
        "model_kwargs = {\"device\": \"cuda\"}\n",
        "\n",
        "embeddings = HuggingFaceEmbeddings(model_name=model_name, model_kwargs=model_kwargs)\n",
        "\n",
        "# storing embeddings in the vector store\n",
        "vectorstore = FAISS.from_documents(all_splits, embeddings)"
      ],
      "metadata": {
        "id": "lBfY6q8r5TP4"
      },
      "execution_count": null,
      "outputs": []
    },
    {
      "cell_type": "code",
      "source": [
        "from langchain.chains import ConversationalRetrievalChain\n",
        "\n",
        "chain = ConversationalRetrievalChain.from_llm(llm, vectorstore.as_retriever(), return_source_documents=True)"
      ],
      "metadata": {
        "id": "a95Jwj2T5Voy"
      },
      "execution_count": null,
      "outputs": []
    },
    {
      "cell_type": "code",
      "source": [
        "chat_history = []\n",
        "\n",
        "query = \"ucts is uts?\"\n",
        "result = chain({\"question\": query, \"chat_history\": chat_history})\n",
        "\n",
        "print(result['answer'])\n",
        "print(chat_history)"
      ],
      "metadata": {
        "colab": {
          "base_uri": "https://localhost:8080/"
        },
        "id": "2Vo_Y5ya5Xhu",
        "outputId": "df2bdf48-d07a-4e92-b9a3-98f5b5b61778"
      },
      "execution_count": null,
      "outputs": [
        {
          "output_type": "stream",
          "name": "stdout",
          "text": [
            " Yes, UCTS is now known as UTS after it was upgraded to a full-fledged university in 2021.\n",
            "[]\n"
          ]
        }
      ]
    },
    {
      "cell_type": "code",
      "source": [
        "chat_history = [(query, result[\"answer\"])]\n",
        "\n",
        "query = \"what is full name of ucts and uts?\"\n",
        "result = chain({\"question\": query, \"chat_history\": chat_history})\n",
        "\n",
        "print(result['answer'])\n",
        "print(chat_history)"
      ],
      "metadata": {
        "colab": {
          "base_uri": "https://localhost:8080/"
        },
        "id": "AUuLHfFD5Z4s",
        "outputId": "fdf93b30-9d06-48c5-af2f-2ff910a87af6"
      },
      "execution_count": null,
      "outputs": [
        {
          "output_type": "stream",
          "name": "stdout",
          "text": [
            "  The full name of UCTS is University College of Technology Sarawak.\n",
            "[('ucts is uts?', ' Yes, UCTS is now known as UTS after it was upgraded to a full-fledged university in 2021.')]\n"
          ]
        }
      ]
    },
    {
      "cell_type": "code",
      "source": [
        "print(result['source_documents'])"
      ],
      "metadata": {
        "colab": {
          "base_uri": "https://localhost:8080/"
        },
        "id": "QVVJCAiM5cIj",
        "outputId": "30893653-0d43-45ef-e8a0-f3f4f44e8c5b"
      },
      "execution_count": null,
      "outputs": [
        {
          "output_type": "stream",
          "name": "stdout",
          "text": [
            "[Document(page_content='History[edit]\\nThe university was established on 1 April 2013 as \"University College of Technology Sarawak\" (UCTS).[5] It is the first university in Sarawak owned by the state government.[6][7] UTS is considered as one of the newest and latest university in Malaysia. The university is recognised as the only TVET university in Sarawak with the aim of producing highly educated and skilled professionals for new and rapidly developing industries.[8][9] The university held its inaugural convocation on 8 October 2016 with 100 graduates. During the occasion, UTS announced its first chancellor, the Governor of Sarawak, Tun Pehin Sri Abdul Taib Mahmud.[10]', metadata={'source': 'https://en.wikipedia.org/wiki/University_of_Technology_Sarawak', 'title': 'University of Technology Sarawak - Wikipedia', 'language': 'en'}), Document(page_content='^ \"UCTS runs transfer degree programme with 4 universities\". Borneo Post Online. 8 November 2018. Retrieved 26 September 2023.\\n\\n^ \"PM to perform earth-breaking of UCTS project\". The Borneo Post. 6 September 2012. Archived from the original on 30 May 2021. Retrieved 23 November 2021.\\n\\n^ \"UCTS diyakini siap ikut jadual\". Borneo Post Online. 23 October 2012. Retrieved 26 September 2023.\\n\\n^ Alena (11 November 2021). \"Breathtaking University In Sarawak Goes Viral & It Even has Environment-Friendly Features! - WORLD OF BUZZ\". worldofbuzz.com. Retrieved 23 January 2023.\\n\\n^ Bernama (25 November 2021). \"Sibu\\'s futuristically designed UTS campus — sight to behold\". New Sarawak Tribune. Retrieved 18 July 2023.\\n\\n^ Chua, Andy (6 March 2015). \"UCTS gets highest rating in Green Building Index\". The Star (Malaysia). Archived from the original on 12 August 2015. Retrieved 22 November 2021.\\n\\n^ \"UCTS IPT pertama raih persijilan GBI\". Borneo Post Online. 6 March 2015. Retrieved 26 September 2023.', metadata={'source': 'https://en.wikipedia.org/wiki/University_of_Technology_Sarawak', 'title': 'University of Technology Sarawak - Wikipedia', 'language': 'en'}), Document(page_content='^ \"UCTS upgraded to full-fledged university, huge achievement for Sarawak\". Borneo Post Online. 23 November 2021. Retrieved 26 September 2023.\\n\\n^ \"UCTS appoints Taib chancellor at inaugural convocation\". The Borneo Post. 9 October 2016. Retrieved 28 March 2019.\\n\\n^ \"Yayasan S\\'wak now wholly owns UCTS\". The Borneo Post. 30 January 2021. Archived from the original on 1 February 2021. Retrieved 2 December 2021.\\n\\n^ Boon, Peter (14 May 2021). \"Sibu\\'s UCTS one of Malaysia\\'s seven beautiful campuses, says high society magazine\". The Borneo Post. Archived from the original on 14 May 2021. Retrieved 23 November 2021.\\n\\n^ \"University Technology Sarawak to be launched tomorrow\". Dayak Daily. 9 November 2021. Retrieved 14 November 2021.\\n\\n^ Hasnah Jusid (23 November 2021). \"Taraf universiti penuh, UTS satu pencapaian besar untuk Sarawak (UTS as full-fledged university is a significant achievement for Sarawak)\" (in Malay). Bernama. Retrieved 23 November 2021.', metadata={'source': 'https://en.wikipedia.org/wiki/University_of_Technology_Sarawak', 'title': 'University of Technology Sarawak - Wikipedia', 'language': 'en'}), Document(page_content='^ \"UCTS kini milik sepenuhnya kerajaan Sarawak pemacu pendidikan tinggi di negeri ini\". Sarawak News Network. 11 November 2021. Retrieved 23 January 2023.\\n\\n^ \"Abang Johari appointed as first pro-chancellor of UTS\". Borneo Post Online. 25 February 2022. Retrieved 26 September 2023.\\n\\n^ Boon, Peter (18 March 2018). \"Making UCTS a first choice university\". The Borneo Post. Archived from the original on 3 June 2021. Retrieved 24 November 2021.\\n\\n^ \"After viral TikTok video, University of Technology Sarawak says never denied student from continuing degree programme\". Borneo Post Online. 6 July 2023. Retrieved 26 September 2023.\\n\\n^ \"UTS celebrates outstanding achievements, increased student enrolment\". Borneo Post Online. 7 August 2023. Retrieved 26 September 2023.\\n\\n^ \"High expectations from the first batch of UCTS students\". Borneo Post Online. 18 September 2013. Retrieved 26 September 2023.', metadata={'source': 'https://en.wikipedia.org/wiki/University_of_Technology_Sarawak', 'title': 'University of Technology Sarawak - Wikipedia', 'language': 'en'})]\n"
          ]
        }
      ]
    },
    {
      "cell_type": "code",
      "source": [
        "import locale\n",
        "def getpreferredencoding(do_setlocale = True):\n",
        " return \"UTF-8\"\n",
        "locale.getpreferredencoding = getpreferredencoding"
      ],
      "metadata": {
        "id": "wSCuEYFA-M_S"
      },
      "execution_count": null,
      "outputs": []
    }
  ]
}