{
  "nbformat": 4,
  "nbformat_minor": 0,
  "metadata": {
    "colab": {
      "provenance": [],
      "gpuType": "T4"
    },
    "kernelspec": {
      "name": "python3",
      "display_name": "Python 3"
    },
    "language_info": {
      "name": "python"
    },
    "accelerator": "GPU"
  },
  "cells": [
    {
      "cell_type": "code",
      "source": [
        "!mkdir templates -p"
      ],
      "metadata": {
        "id": "sxDDvArF5g38"
      },
      "execution_count": null,
      "outputs": []
    },
    {
      "cell_type": "code",
      "source": [
        "%%writefile templates/index.html\n",
        "\n",
        "<!DOCTYPE html>\n",
        "<html lang=\"en\">\n",
        "<head>\n",
        "  <meta charset=\"UTF-8\">\n",
        "  <meta name=\"viewport\" content=\"width=device-width, initial-scale=1.0\">\n",
        "  <title>UTS Cafeteria GPT</title>\n",
        "  <link rel=\"stylesheet\" href=\"https://stackpath.bootstrapcdn.com/bootstrap/4.1.3/css/bootstrap.min.css\">\n",
        "  <style>\n",
        "    body {\n",
        "        background-image:  url(https://lh5.googleusercontent.com/p/AF1QipPr5YfZjO-FRPh9Xqv83eJ19l6Kl3CdOsAJ6t4-=w141-h118-n-k-no-nu);\n",
        "        background-color: rgba(0, 0, 0, 0.8);\n",
        "        background-repeat: no-repeat;\n",
        "        background-position: center;\n",
        "        background-attachment: fixed;\n",
        "        background-size: cover;\n",
        "        background-blend-mode: darken;\n",
        "      font-family: Arial, sans-serif;\n",
        "    }\n",
        "\n",
        "    .container {\n",
        "      max-width: 600px;\n",
        "      margin: 100px auto;\n",
        "      background-color: #fff;\n",
        "      border-radius: 8px;\n",
        "      box-shadow: 0 0 10px rgba(0, 0, 0, 0.1);\n",
        "      padding: 20px;\n",
        "    }\n",
        "\n",
        "    #chatContainer {\n",
        "      height: 600px;\n",
        "      overflow-y: auto;\n",
        "      border: 1px solid #ccc;\n",
        "      border-radius: 8px;\n",
        "      padding: 10px;\n",
        "      margin-bottom: 20px;\n",
        "      background-color: #f9f9f9;\n",
        "    }\n",
        "\n",
        "    .messageContainer {\n",
        "      margin-bottom: 10px;\n",
        "      overflow: hidden;\n",
        "    }\n",
        "\n",
        "    .message {\n",
        "      padding: 10px;\n",
        "      border-radius: 8px;\n",
        "      max-width: 80%;\n",
        "      word-wrap: break-word;\n",
        "    }\n",
        "\n",
        "    .userMessage {\n",
        "      background-color: #007bff;\n",
        "      color: #fff;\n",
        "      float: right;\n",
        "    }\n",
        "\n",
        "    .botMessage {\n",
        "      background-color: #28a745;\n",
        "      color: #fff;\n",
        "      float: left;\n",
        "    }\n",
        "\n",
        "    .avatar {\n",
        "      width: 30px;\n",
        "      height: 30px;\n",
        "      border-radius: 50%;\n",
        "      margin-right: 10px;\n",
        "      float: left;\n",
        "    }\n",
        "\n",
        "    .typingIndicator {\n",
        "      display: inline-block;\n",
        "      width: 10px;\n",
        "      height: 10px;\n",
        "      margin-right: 5px;\n",
        "      background-color: #ccc;\n",
        "      border-radius: 50%;\n",
        "      animation: typingAnimation 1s infinite;\n",
        "    }\n",
        "\n",
        "    @keyframes typingAnimation {\n",
        "      0% {\n",
        "        background-color: #ccc;\n",
        "      }\n",
        "      50% {\n",
        "        background-color: transparent;\n",
        "      }\n",
        "      100% {\n",
        "        background-color: #ccc;\n",
        "      }\n",
        "    }\n",
        "\n",
        "    /* Style for form input and button */\n",
        "    .form-group {\n",
        "      display: flex;\n",
        "      align-items: center;\n",
        "    }\n",
        "\n",
        "    #question {\n",
        "      flex: 1;\n",
        "      margin-right: 10px;\n",
        "      padding: 8px;\n",
        "      border: 1px solid #ccc;\n",
        "      border-radius: 5px;\n",
        "    }\n",
        "\n",
        "    #submitBtn {\n",
        "      padding: 8px 20px;\n",
        "      background-color: #007bff;\n",
        "      color: #fff;\n",
        "      border: none;\n",
        "      border-radius: 5px;\n",
        "      cursor: pointer;\n",
        "    }\n",
        "  </style>\n",
        "</head>\n",
        "<body>\n",
        "\n",
        "<div class=\"container\">\n",
        "  <h1 class=\"text-center\">Cafeteria GPT</h1>\n",
        "\n",
        "  <div id=\"chatContainer\"></div>\n",
        "\n",
        "  <form id=\"chatForm\" action=\"#\" method=\"POST\">\n",
        "    <div class=\"form-group\">\n",
        "      <input type=\"text\" id=\"question\" name=\"question\" placeholder=\"Type your message...\" autocomplete=\"off\">\n",
        "      <button type=\"submit\" id=\"submitBtn\">Send</button>\n",
        "    </div>\n",
        "  </form>\n",
        "</div>\n",
        "\n",
        "<script src=\"https://ajax.googleapis.com/ajax/libs/jquery/1.9.1/jquery.min.js\"></script>\n",
        "<script>\n",
        "  $(document).ready(function() {\n",
        "    // 定义一个基类\n",
        "    function ChatMessage(content, isUser) {\n",
        "      this.content = content;\n",
        "      this.isUser = isUser;\n",
        "    }\n",
        "\n",
        "    // 添加一个方法到 ChatMessage 的原型上，用于展示消息\n",
        "    ChatMessage.prototype.displayMessage = function() {\n",
        "      var messageClass = this.isUser ? \"userMessage\" : \"botMessage\";\n",
        "      var messageContent = \"<div class='message \" + messageClass + \"'>\" + this.content + \"</div>\";\n",
        "      var avatar = this.isUser ? \"\" : \"<img src='https://cdn-icons-png.flaticon.com/512/4712/4712109.png' class='avatar'>\";\n",
        "      return \"<div class='messageContainer'>\" + avatar + messageContent + \"</div>\";\n",
        "    };\n",
        "\n",
        "    // 派生一个具体类，继承自基类 ChatMessage\n",
        "    function UserMessage(content) {\n",
        "      ChatMessage.call(this, content, true);\n",
        "    }\n",
        "\n",
        "    // 使用原型链继承基类的方法\n",
        "    UserMessage.prototype = Object.create(ChatMessage.prototype);\n",
        "    UserMessage.prototype.constructor = UserMessage;\n",
        "\n",
        "    // 派生一个具体类，继承自基类 ChatMessage\n",
        "    function BotMessage(content) {\n",
        "      ChatMessage.call(this, content, false);\n",
        "    }\n",
        "\n",
        "    // 使用原型链继承基类的方法\n",
        "    BotMessage.prototype = Object.create(ChatMessage.prototype);\n",
        "    BotMessage.prototype.constructor = BotMessage;\n",
        "\n",
        "    // 创建一个聊天界面类，用于处理用户输入和显示消息\n",
        "    function ChatInterface() {\n",
        "      this.messages = [];\n",
        "    }\n",
        "\n",
        "    ChatInterface.prototype.sendMessage = function(message) {\n",
        "      var userMessage = new UserMessage(message.trim());\n",
        "      this.messages.push(userMessage);\n",
        "      this.displayMessages();\n",
        "      // 模拟机器人回复\n",
        "      this.showTypingIndicator();\n",
        "      var that = this;\n",
        "      $.ajax({\n",
        "        url: '/get_response', // 将此 URL 替换为后端路由，用于获取机器人的回复消息\n",
        "        type: 'POST',\n",
        "        data: { question: message },\n",
        "        success: function(response) {\n",
        "          that.botReply(response);\n",
        "        },\n",
        "        error: function(xhr, status, error) { //exception handling\n",
        "          console.error(\"Error:\", error);\n",
        "          that.botReply(\"Sorry, Got Some Error, Please press f12 to check the error\")\n",
        "        }\n",
        "      });\n",
        "    };\n",
        "\n",
        "    ChatInterface.prototype.botReply = function(response) {\n",
        "      var botMessage = new BotMessage(response);\n",
        "      // 移除等待特效\n",
        "      this.messages.pop();\n",
        "      this.messages.push(botMessage);\n",
        "      this.displayMessages();\n",
        "    };\n",
        "\n",
        "    ChatInterface.prototype.showTypingIndicator = function() {\n",
        "      var typingIndicator = \"<span class='typingIndicator'></span><span class='typingIndicator'></span><span class='typingIndicator'></span>\";\n",
        "      var botMessage = new BotMessage(typingIndicator);\n",
        "      this.messages.push(botMessage);\n",
        "      this.displayMessages();\n",
        "    };\n",
        "\n",
        "    ChatInterface.prototype.displayMessages = function() {\n",
        "      var chatContainer = $(\"#chatContainer\");\n",
        "      chatContainer.empty();\n",
        "      this.messages.forEach(function(message) {\n",
        "        chatContainer.append(message.displayMessage());\n",
        "      });\n",
        "      scrollChatContainer();\n",
        "    };\n",
        "\n",
        "    // 滚动聊天容器到底部\n",
        "    function scrollChatContainer() {\n",
        "      var chatContainer = $(\"#chatContainer\");\n",
        "      chatContainer.scrollTop(chatContainer.prop(\"scrollHeight\"));\n",
        "    }\n",
        "\n",
        "    // 创建一个聊天界面实例\n",
        "    var chatInterface = new ChatInterface();\n",
        "\n",
        "    // 初始问候消息\n",
        "    var initialGreeting = \"Hello and Welcome to Cafeteria Chatbot! What can I do for you?\";\n",
        "    var botMessage = new BotMessage(initialGreeting);\n",
        "    chatInterface.messages.push(botMessage);\n",
        "    chatInterface.displayMessages();\n",
        "\n",
        "    // 监听表单提交事件\n",
        "    $(\"#chatForm\").submit(function(event) {\n",
        "      event.preventDefault();\n",
        "      var userInput = $(\"#question\").val();\n",
        "      if (userInput) {\n",
        "        chatInterface.sendMessage(userInput);\n",
        "        $(\"#question\").val(\"\");\n",
        "      }\n",
        "    });\n",
        "\n",
        "    // Handle constant responses for specific user inputs\n",
        "    $(\"#chatForm\").on(\"input\", function() {\n",
        "      var userInput = $(\"#question\").val().toLowerCase();\n",
        "      if (lowerCaseMessage.includes('hello') || lowerCaseMessage.includes('hi')) {\n",
        "          return 'Hello! How can I assist you?';\n",
        "      } else if (lowerCaseMessage.includes('help')) {\n",
        "            return 'Sure, I can help you. What do you need assistance with?';\n",
        "      } else if (lowerCaseMessage.includes('bye') || lowerCaseMessage.includes('goodbye')) {\n",
        "            return 'Goodbye! Have a great day!';\n",
        "      } else {\n",
        "            return \"I'm sorry, I didn't understand that. Can you please rephrase?\";\n",
        "      }\n",
        "    });\n",
        "\n",
        "  });\n",
        "</script>\n",
        "\n",
        "</body>\n",
        "</html>\n",
        "\n",
        "\n"
      ],
      "metadata": {
        "colab": {
          "base_uri": "https://localhost:8080/"
        },
        "id": "2MqxIGmv5hW4",
        "outputId": "05f9b4e7-0c41-40b8-984b-f1be92794ca0"
      },
      "execution_count": null,
      "outputs": [
        {
          "output_type": "stream",
          "name": "stdout",
          "text": [
            "Overwriting templates/index.html\n"
          ]
        }
      ]
    },
    {
      "cell_type": "code",
      "source": [
        "import os\n",
        "import threading"
      ],
      "metadata": {
        "id": "za76-e2y5pa2"
      },
      "execution_count": null,
      "outputs": []
    },
    {
      "cell_type": "code",
      "source": [
        "!pip install pyngrok"
      ],
      "metadata": {
        "colab": {
          "base_uri": "https://localhost:8080/"
        },
        "id": "pWogbUyP5tMY",
        "outputId": "93512ef7-3dbd-4e47-d09b-15c24bfb290f"
      },
      "execution_count": null,
      "outputs": [
        {
          "output_type": "stream",
          "name": "stdout",
          "text": [
            "Requirement already satisfied: pyngrok in /usr/local/lib/python3.10/dist-packages (7.1.6)\n",
            "Requirement already satisfied: PyYAML>=5.1 in /usr/local/lib/python3.10/dist-packages (from pyngrok) (6.0.1)\n"
          ]
        }
      ]
    },
    {
      "cell_type": "code",
      "source": [
        "!killall ngrok"
      ],
      "metadata": {
        "id": "E4aEWknXIMEo"
      },
      "execution_count": null,
      "outputs": []
    },
    {
      "cell_type": "code",
      "source": [
        "from flask import Flask, render_template, request, jsonify\n",
        "from pyngrok import ngrok\n",
        "!ngrok version\n",
        "os.environ[\"FLASK_DEBUG\"] = \"development\"\n",
        "# template_folder = '/gdrive/MyDrive/AIWeb/template'\n",
        "app = Flask(__name__)\n",
        "port = 5000\n",
        "ngrok.set_auth_token(\"ngrok_token\")\n",
        "public_url = ngrok.connect(port).public_url\n",
        "print(\"* ngrok tunnel \\\"{}\\\">\\\"http://127.0.0.1:{}\\\"\".format(public_url, port))\n",
        "\n",
        "app.config[\"BASE_URL\"] = public_url\n",
        "message = \"\"\n",
        "question = \"\"\n",
        "questionArray = []\n",
        "chat_history = []\n",
        "@app.route(\"/\")\n",
        "@app.route(\"/index\", methods=['GET', 'POST'])\n",
        "def index():\n",
        "  global message\n",
        "  global question\n",
        "  # global questionArray\n",
        "  if request.method == 'POST':\n",
        "    # chat_history = [(query, result[\"answer\"])]\n",
        "    # question = request.form.get(\"question\")\n",
        "    getQuestion = request.form.get(\"question\")\n",
        "    result = chain({\"question\": getQuestion, \"chat_history\": chat_history})\n",
        "    question = getQuestion\n",
        "    message = result['answer']\n",
        "    # questionArray.append()\n",
        "    # print(result)\n",
        "    # print(chat_history)\n",
        "  return render_template('index.html', message=message, question=question)\n",
        "@app.route('/get_response', methods=['POST'])\n",
        "def get_response():\n",
        "    user_question = request.form['question']\n",
        "    result = chain({\"question\": user_question, \"chat_history\": chat_history})\n",
        "    bot_response = result['answer']\n",
        "    return bot_response\n",
        "threading.Thread(target=app.run, kwargs={\"use_reloader\": False}).start()"
      ],
      "metadata": {
        "colab": {
          "base_uri": "https://localhost:8080/"
        },
        "id": "2jHKz2Qy5vLR",
        "outputId": "d1dc9cca-36c6-4211-91a9-f19b8a22783d"
      },
      "execution_count": null,
      "outputs": [
        {
          "output_type": "stream",
          "name": "stdout",
          "text": [
            "ngrok version 3.9.0\n",
            "pyngrok version 7.1.6\n",
            "* ngrok tunnel \"https://1b00-34-125-132-136.ngrok-free.app\">\"http://127.0.0.1:5000\"\n",
            " * Serving Flask app '__main__'\n"
          ]
        },
        {
          "output_type": "stream",
          "name": "stderr",
          "text": [
            "'FLASK_ENV' is deprecated and will not be used in Flask 2.3. Use 'FLASK_DEBUG' instead.\n"
          ]
        }
      ]
    },
    {
      "cell_type": "code",
      "source": [
        "from google.colab import drive\n",
        "drive.mount('/content/gdrive')"
      ],
      "metadata": {
        "colab": {
          "base_uri": "https://localhost:8080/"
        },
        "id": "BHGmXm4d_NfG",
        "outputId": "2ede0739-6fd5-427e-fb1d-5e2889bd0776"
      },
      "execution_count": null,
      "outputs": [
        {
          "output_type": "stream",
          "name": "stdout",
          "text": [
            "Drive already mounted at /content/gdrive; to attempt to forcibly remount, call drive.mount(\"/content/gdrive\", force_remount=True).\n"
          ]
        }
      ]
    },
    {
      "cell_type": "code",
      "source": [
        "from flask import Flask, render_template, request\n",
        "from pyngrok import ngrok\n",
        "!ngrok version\n",
        "os.environ[\"FLASK_ENV\"] = \"development\"\n",
        "template_folder = '/gdrive/MyDrive/AIWeb/template'\n",
        "app = Flask(__name__,template_folder=template_folder)\n",
        "port = 5000\n",
        "ngrok.set_auth_token(\"ngrok_token\")\n",
        "public_url = ngrok.connect(port).public_url\n",
        "print(\"* ngrok tunnel \\\"{}\\\">\\\"http://127.0.0.1:{}\\\"\".format(public_url, port))\n",
        "\n",
        "app.config[\"BASE_URL\"] = public_url\n",
        "\n",
        "@app.route(\"/\", methods=['GET', 'POST'])\n",
        "@app.route(\"/index\", methods=['GET', 'POST'])\n",
        "def index():\n",
        "  global message\n",
        "  if request.method == 'POST':\n",
        "    chat_history = [(question, result[\"answer\"])]\n",
        "    question = request.form.get(\"question\")\n",
        "    # query = request.form.get(\"question\")\n",
        "    result = chain({\"question\": question, \"chat_history\": chat_history})\n",
        "    message = result['answer']\n",
        "    print(result['answer'])\n",
        "    # print(chat_history)\n",
        "  return render_template('index.html', message=message)\n",
        "threading.Thread(target=app.run, kwargs={\"use_reloader\": False}).start()"
      ],
      "metadata": {
        "id": "Ik7g4n31rg-1",
        "colab": {
          "base_uri": "https://localhost:8080/"
        },
        "outputId": "4b6995b9-ba46-4e7e-bd4b-a95866975e26"
      },
      "execution_count": null,
      "outputs": [
        {
          "output_type": "stream",
          "name": "stdout",
          "text": [
            "ngrok version 3.9.0\n",
            "pyngrok version 7.1.6\n",
            "* ngrok tunnel \"https://f935-34-125-132-136.ngrok-free.app\">\"http://127.0.0.1:5000\"\n"
          ]
        }
      ]
    }
  ]
}